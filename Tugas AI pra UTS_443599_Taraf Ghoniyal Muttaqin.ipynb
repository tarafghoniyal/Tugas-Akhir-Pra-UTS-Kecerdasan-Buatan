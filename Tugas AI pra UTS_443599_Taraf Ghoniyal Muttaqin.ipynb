{
 "cells": [
  {
   "cell_type": "code",
   "execution_count": 45,
   "id": "1a52ddd8",
   "metadata": {},
   "outputs": [],
   "source": [
    "import pandas as pd\n",
    "import matplotlib.pyplot as plt\n",
    "import numpy as np\n",
    "import math"
   ]
  },
  {
   "cell_type": "code",
   "execution_count": 46,
   "id": "b0def359",
   "metadata": {},
   "outputs": [],
   "source": [
    "# upload dataset\n",
    "car_dataset = pd.read_csv(r'D:\\AI\\cardataset.csv')"
   ]
  },
  {
   "cell_type": "code",
   "execution_count": 47,
   "id": "531f7a42",
   "metadata": {},
   "outputs": [
    {
     "data": {
      "text/html": [
       "<div>\n",
       "<style scoped>\n",
       "    .dataframe tbody tr th:only-of-type {\n",
       "        vertical-align: middle;\n",
       "    }\n",
       "\n",
       "    .dataframe tbody tr th {\n",
       "        vertical-align: top;\n",
       "    }\n",
       "\n",
       "    .dataframe thead th {\n",
       "        text-align: right;\n",
       "    }\n",
       "</style>\n",
       "<table border=\"1\" class=\"dataframe\">\n",
       "  <thead>\n",
       "    <tr style=\"text-align: right;\">\n",
       "      <th></th>\n",
       "      <th>model</th>\n",
       "      <th>year</th>\n",
       "      <th>price</th>\n",
       "      <th>transmission</th>\n",
       "      <th>mileage</th>\n",
       "      <th>fuelType</th>\n",
       "      <th>tax</th>\n",
       "      <th>mpg</th>\n",
       "      <th>engineSize</th>\n",
       "    </tr>\n",
       "  </thead>\n",
       "  <tbody>\n",
       "    <tr>\n",
       "      <th>0</th>\n",
       "      <td>X3</td>\n",
       "      <td>2017</td>\n",
       "      <td>15500</td>\n",
       "      <td>Manual</td>\n",
       "      <td>74907</td>\n",
       "      <td>Diesel</td>\n",
       "      <td>145</td>\n",
       "      <td>52.3</td>\n",
       "      <td>2.0</td>\n",
       "    </tr>\n",
       "    <tr>\n",
       "      <th>1</th>\n",
       "      <td>X3</td>\n",
       "      <td>2016</td>\n",
       "      <td>15500</td>\n",
       "      <td>Automatic</td>\n",
       "      <td>77823</td>\n",
       "      <td>Diesel</td>\n",
       "      <td>125</td>\n",
       "      <td>54.3</td>\n",
       "      <td>2.0</td>\n",
       "    </tr>\n",
       "    <tr>\n",
       "      <th>2</th>\n",
       "      <td>X3</td>\n",
       "      <td>2017</td>\n",
       "      <td>22000</td>\n",
       "      <td>Automatic</td>\n",
       "      <td>19057</td>\n",
       "      <td>Diesel</td>\n",
       "      <td>145</td>\n",
       "      <td>54.3</td>\n",
       "      <td>2.0</td>\n",
       "    </tr>\n",
       "    <tr>\n",
       "      <th>3</th>\n",
       "      <td>X3</td>\n",
       "      <td>2015</td>\n",
       "      <td>17400</td>\n",
       "      <td>Automatic</td>\n",
       "      <td>50316</td>\n",
       "      <td>Diesel</td>\n",
       "      <td>200</td>\n",
       "      <td>47.9</td>\n",
       "      <td>3.0</td>\n",
       "    </tr>\n",
       "    <tr>\n",
       "      <th>4</th>\n",
       "      <td>X3</td>\n",
       "      <td>2017</td>\n",
       "      <td>18000</td>\n",
       "      <td>Automatic</td>\n",
       "      <td>74852</td>\n",
       "      <td>Diesel</td>\n",
       "      <td>150</td>\n",
       "      <td>47.1</td>\n",
       "      <td>3.0</td>\n",
       "    </tr>\n",
       "  </tbody>\n",
       "</table>\n",
       "</div>"
      ],
      "text/plain": [
       "  model  year  price transmission  mileage fuelType  tax   mpg  engineSize\n",
       "0    X3  2017  15500       Manual    74907   Diesel  145  52.3         2.0\n",
       "1    X3  2016  15500    Automatic    77823   Diesel  125  54.3         2.0\n",
       "2    X3  2017  22000    Automatic    19057   Diesel  145  54.3         2.0\n",
       "3    X3  2015  17400    Automatic    50316   Diesel  200  47.9         3.0\n",
       "4    X3  2017  18000    Automatic    74852   Diesel  150  47.1         3.0"
      ]
     },
     "execution_count": 47,
     "metadata": {},
     "output_type": "execute_result"
    }
   ],
   "source": [
    "# melihat dataset\n",
    "car_dataset.head()"
   ]
  },
  {
   "cell_type": "code",
   "execution_count": 48,
   "id": "19306c3f",
   "metadata": {},
   "outputs": [
    {
     "data": {
      "text/plain": [
       "(470, 9)"
      ]
     },
     "execution_count": 48,
     "metadata": {},
     "output_type": "execute_result"
    }
   ],
   "source": [
    "# Cek jumlah data pada dataset\n",
    "car_dataset.shape"
   ]
  },
  {
   "cell_type": "code",
   "execution_count": 49,
   "id": "17395cb6",
   "metadata": {},
   "outputs": [
    {
     "data": {
      "text/plain": [
       "model           0\n",
       "year            0\n",
       "price           0\n",
       "transmission    0\n",
       "mileage         0\n",
       "fuelType        0\n",
       "tax             0\n",
       "mpg             0\n",
       "engineSize      0\n",
       "dtype: int64"
      ]
     },
     "execution_count": 49,
     "metadata": {},
     "output_type": "execute_result"
    }
   ],
   "source": [
    "#Cek apakah ada dataset yang bernilai null\n",
    "car_dataset.isnull().sum()"
   ]
  },
  {
   "cell_type": "code",
   "execution_count": 50,
   "id": "c1e7f9b3",
   "metadata": {},
   "outputs": [],
   "source": [
    "# membuat variabel prediksi yang berisi data jarak tempuh dan variabel respon yang berisi data harga\n",
    "X = car_dataset['mileage'].values\n",
    "Y = car_dataset['price'].values"
   ]
  },
  {
   "cell_type": "code",
   "execution_count": 51,
   "id": "5dde313e",
   "metadata": {},
   "outputs": [],
   "source": [
    "# fungsi untuk split dataset menjadi data train dan data test\n",
    "def split_data(X,y,test_size=0.2,random_state=0):\n",
    "    np.random.seed(random_state)                 \n",
    "    indices = np.random.permutation(len(X))      #Shuffle indeks\n",
    "    data_test_size = int(X.shape[0] * test_size)  #Set ukuran data test\n",
    "\n",
    "    #Membagi data dari features mileage dan price ke data train dan data test\n",
    "    train_indices = indices[data_test_size:]\n",
    "    test_indices = indices[:data_test_size]\n",
    "    X_train = X[train_indices]\n",
    "    y_train = y[train_indices]\n",
    "    X_test = X[test_indices]\n",
    "    y_test = y[test_indices]\n",
    "    return X_train, y_train, X_test, y_test"
   ]
  },
  {
   "cell_type": "code",
   "execution_count": 52,
   "id": "b61b6f80",
   "metadata": {},
   "outputs": [],
   "source": [
    "#Membagi dataset menjadi data train dan data test\n",
    "X_train, Y_train, X_test, Y_test = split_data(X,Y)"
   ]
  },
  {
   "cell_type": "code",
   "execution_count": 53,
   "id": "2896da58",
   "metadata": {},
   "outputs": [],
   "source": [
    "#mencari rata-rata varibel prediksi dan variabel respon data train\n",
    "mean_x = np.mean(X_train)\n",
    "mean_y = np.mean(Y_train)"
   ]
  },
  {
   "cell_type": "code",
   "execution_count": 54,
   "id": "696104c5",
   "metadata": {},
   "outputs": [],
   "source": [
    "#membuat variabel untuk mencari persamaan regresi\n",
    "n = len(X_train)\n",
    "XY_sum = 0\n",
    "Y2_sum = 0\n",
    "Y_sum = 0\n",
    "X2_sum = 0\n",
    "X_sum = 0"
   ]
  },
  {
   "cell_type": "code",
   "execution_count": 55,
   "id": "3cfe7109",
   "metadata": {},
   "outputs": [],
   "source": [
    "#mencari nilai a dan b sebagai Y-intercept dan slope\n",
    "for i in range(n):\n",
    "    XY_sum += X_train[i]*Y_train[i]\n",
    "    Y_sum += Y_train[i]\n",
    "    Y2_sum += Y_train[i]**2\n",
    "    X_sum += X_train[i]\n",
    "    X2_sum += X_train[i]**2\n",
    "a = (Y_sum*X2_sum - X_sum*XY_sum)/(n*X2_sum - X_sum**2)\n",
    "b = (n*XY_sum - X_sum*Y_sum)/(n*X2_sum - X_sum**2)"
   ]
  },
  {
   "cell_type": "code",
   "execution_count": 56,
   "id": "15259dc1",
   "metadata": {
    "scrolled": true
   },
   "outputs": [
    {
     "name": "stdout",
     "output_type": "stream",
     "text": [
      "b = -0.3114647338617002 \n",
      "a = 34327.953993933756\n"
     ]
    }
   ],
   "source": [
    "print (f'b = {b} \\na = {a}')"
   ]
  },
  {
   "cell_type": "code",
   "execution_count": 57,
   "id": "73fcee76",
   "metadata": {},
   "outputs": [],
   "source": [
    "#membuat persamaan regresi dan mencari nilai rata-rata harga prediksi\n",
    "x = np.linspace (np.min(X_train), np.max(X_train))\n",
    "y = a + b * x\n",
    "mean_yp = np.mean(a + b * X_train)"
   ]
  },
  {
   "cell_type": "code",
   "execution_count": 58,
   "id": "458bd20a",
   "metadata": {},
   "outputs": [
    {
     "data": {
      "image/png": "[encoded data removed]",
      "text/plain": [
       "<Figure size 432x288 with 1 Axes>"
      ]
     },
     "metadata": {
      "needs_background": "light"
     },
     "output_type": "display_data"
    }
   ],
   "source": [
    "#plot data train dan regresi linear dari data train\n",
    "plt.plot(x, y, color='#58b970', label='Regression Line')\n",
    "plt.scatter(X_train, Y_train, c='#ef5423', label='data points')\n",
    "\n",
    "plt.xlabel('Mileage')\n",
    "plt.ylabel('Price')\n",
    "plt.legend()\n",
    "plt.show()"
   ]
  },
  {
   "cell_type": "code",
   "execution_count": 59,
   "id": "3eeffbd7",
   "metadata": {},
   "outputs": [
    {
     "name": "stdout",
     "output_type": "stream",
     "text": [
      "0.890927741396777\n"
     ]
    }
   ],
   "source": [
    "#correlation testing\n",
    "r = (X_sum*Y_sum - n*XY_sum)/(math.sqrt(n*X2_sum-X_sum**2)*math.sqrt(n*Y2_sum-Y_sum**2))\n",
    "print(r)"
   ]
  },
  {
   "cell_type": "code",
   "execution_count": 60,
   "id": "dc83c8eb",
   "metadata": {},
   "outputs": [
    {
     "name": "stdout",
     "output_type": "stream",
     "text": [
      "0.793752240390363\n"
     ]
    }
   ],
   "source": [
    "#coeficient of determination\n",
    "SSR = 0\n",
    "SST = 0\n",
    "for i in range(len(X_train)):\n",
    "  SST += (Y_train[i] - mean_y) ** 2\n",
    "  SSR += ((a + b * X_train[i]) - mean_yp)** 2\n",
    "r2 = SSR/SST\n",
    "print(r2)"
   ]
  },
  {
   "cell_type": "code",
   "execution_count": 61,
   "id": "e7ca438e",
   "metadata": {},
   "outputs": [],
   "source": [
    "#mencari rata-rata variabel respon data test\n",
    "mean_y_test = np.mean(Y_test)"
   ]
  },
  {
   "cell_type": "code",
   "execution_count": 62,
   "id": "6a236222",
   "metadata": {},
   "outputs": [],
   "source": [
    "#mencari harga prediksi data test dan rata rata harga prediksinya\n",
    "Y_pred = a + b * X_test\n",
    "mean_ypred = np.mean(Y_pred)"
   ]
  },
  {
   "cell_type": "code",
   "execution_count": 63,
   "id": "cf2d8467",
   "metadata": {
    "scrolled": true
   },
   "outputs": [
    {
     "data": {
      "image/png": "[encoded data removed]",
      "text/plain": [
       "<Figure size 432x288 with 1 Axes>"
      ]
     },
     "metadata": {
      "needs_background": "light"
     },
     "output_type": "display_data"
    }
   ],
   "source": [
    "#plot harga sebenarnya dari data train dan harga prediksinya\n",
    "plt.scatter(X_test, Y_pred, color='#58b970', label='Predicted Price')\n",
    "plt.scatter(X_test, Y_test, c='#ef5423', label='Actual Price')\n",
    "\n",
    "plt.xlabel('Mileage')\n",
    "plt.ylabel('Price')\n",
    "plt.legend()\n",
    "plt.show()"
   ]
  },
  {
   "cell_type": "code",
   "execution_count": 64,
   "id": "f9ee6cc9",
   "metadata": {},
   "outputs": [
    {
     "name": "stdout",
     "output_type": "stream",
     "text": [
      "0.787603881865379\n"
     ]
    }
   ],
   "source": [
    "#coefficient of determination \n",
    "SSR = 0\n",
    "SST = 0 \n",
    "for i in range(len(X_test)):\n",
    "  SST+= (Y_test[i] - mean_y_test) ** 2\n",
    "  SSR += ((a + b * X_test[i]) - mean_ypred) ** 2\n",
    "r2_test = SSR/SST\n",
    "print(r2_test)"
   ]
  },
  {
   "cell_type": "code",
   "execution_count": 65,
   "id": "4924d59d",
   "metadata": {},
   "outputs": [
    {
     "name": "stdout",
     "output_type": "stream",
     "text": [
      "11717.879154111553\n"
     ]
    }
   ],
   "source": [
    "#mean square error\n",
    "for i in range(len(X_test)):\n",
    "    SE = (Y_test[i] - (a + b * X_test[i]))**2\n",
    "MSE = SE/len(X_test)\n",
    "print(MSE)"
   ]
  }
 ],
 "metadata": {
  "kernelspec": {
   "display_name": "Python 3 (ipykernel)",
   "language": "python",
   "name": "python3"
  },
  "language_info": {
   "codemirror_mode": {
    "name": "ipython",
    "version": 3
   },
   "file_extension": ".py",
   "mimetype": "text/x-python",
   "name": "python",
   "nbconvert_exporter": "python",
   "pygments_lexer": "ipython3",
   "version": "3.9.12"
  }
 },
 "nbformat": 4,
 "nbformat_minor": 5
}
